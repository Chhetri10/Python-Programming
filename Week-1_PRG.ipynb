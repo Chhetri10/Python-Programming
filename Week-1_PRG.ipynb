{
 "cells": [
  {
   "cell_type": "markdown",
   "metadata": {},
   "source": [
    "# Suyog Chhetri"
   ]
  },
  {
   "cell_type": "markdown",
   "metadata": {},
   "source": [
    "# Data Types:\n",
    "1. Number\n",
    "2. String\n",
    "3. Boolean\n",
    "4. None\n"
   ]
  },
  {
   "cell_type": "markdown",
   "metadata": {},
   "source": [
    "# Flow Control:\n",
    "1. Control Statement (if, else, elseif)\n",
    "2. Break Continue"
   ]
  },
  {
   "cell_type": "markdown",
   "metadata": {},
   "source": [
    "# Loops\n",
    "1. While\n",
    "2. For "
   ]
  },
  {
   "cell_type": "code",
   "execution_count": 2,
   "metadata": {},
   "outputs": [
    {
     "name": "stdout",
     "output_type": "stream",
     "text": [
      "Hello World\n"
     ]
    }
   ],
   "source": [
    "hello = \"Hello World\"\n",
    "print (hello)"
   ]
  },
  {
   "cell_type": "markdown",
   "metadata": {},
   "source": [
    "# Python numbers \n"
   ]
  },
  {
   "cell_type": "code",
   "execution_count": 3,
   "metadata": {},
   "outputs": [
    {
     "name": "stdout",
     "output_type": "stream",
     "text": [
      "3.14159\n"
     ]
    }
   ],
   "source": [
    "pi = 3.14159\n",
    "print (pi)"
   ]
  },
  {
   "cell_type": "markdown",
   "metadata": {},
   "source": [
    "# Numbers (interger, float, imaginary) type"
   ]
  },
  {
   "cell_type": "code",
   "execution_count": 4,
   "metadata": {},
   "outputs": [
    {
     "name": "stdout",
     "output_type": "stream",
     "text": [
      "3.14159\n",
      "30\n",
      "<class 'complex'>\n"
     ]
    }
   ],
   "source": [
    "age = 30 \n",
    "real_imaginary = 1j\n",
    "pi = 3.14159\n",
    "print (pi)\n",
    "print (age)\n",
    "print (type (real_imaginary))"
   ]
  },
  {
   "cell_type": "markdown",
   "metadata": {},
   "source": [
    "# Arithmetic operations"
   ]
  },
  {
   "cell_type": "code",
   "execution_count": 5,
   "metadata": {},
   "outputs": [
    {
     "name": "stdout",
     "output_type": "stream",
     "text": [
      "9\n",
      "3\n",
      "18\n",
      "2.0\n",
      "0\n",
      "16\n"
     ]
    }
   ],
   "source": [
    "# Addition\n",
    "a = 6\n",
    "b = 3\n",
    "sum_of_ab = a + b\n",
    "print (sum_of_ab)\n",
    "diff = a - b\n",
    "print (diff)\n",
    "product = a * b\n",
    "print (product)\n",
    "div_of_ab = a / b\n",
    "print (div_of_ab)\n",
    "rem_a_b = a % b\n",
    "print (rem_a_b)\n",
    "total_ram_size = 2**4\n",
    "print (total_ram_size)\n"
   ]
  },
  {
   "cell_type": "markdown",
   "metadata": {},
   "source": [
    "# Strings\n"
   ]
  },
  {
   "cell_type": "code",
   "execution_count": 6,
   "metadata": {},
   "outputs": [
    {
     "name": "stdout",
     "output_type": "stream",
     "text": [
      "Kathmandu Valley\n",
      "16\n",
      "m\n",
      "y\n",
      "first last city Kat mandu\n"
     ]
    }
   ],
   "source": [
    "city = \"Kathmandu Valley\"\n",
    "print (city)\n",
    "print (len(city))\n",
    "print (city[4])\n",
    "last_city = city[len(city)-1]\n",
    "print (last_city)\n",
    "\n",
    "\n",
    "# sub sting \n",
    "first_city = city[0:3]\n",
    "last_city = city[4:9]\n",
    "print (\"first last city\", first_city, last_city)"
   ]
  },
  {
   "cell_type": "code",
   "execution_count": 7,
   "metadata": {},
   "outputs": [
    {
     "name": "stdout",
     "output_type": "stream",
     "text": [
      "fullname = Aaayus  De  Choudary\n"
     ]
    }
   ],
   "source": [
    "name = \"Aaayush Dev Choudary\"\n",
    "first_name = name [:6]\n",
    "middle_name = name[7:10]\n",
    "last_name = name[11:]\n",
    "print (\"fullname =\", first_name, middle_name, last_name)"
   ]
  },
  {
   "cell_type": "markdown",
   "metadata": {},
   "source": [
    "# Boolean\n"
   ]
  },
  {
   "cell_type": "code",
   "execution_count": 8,
   "metadata": {},
   "outputs": [
    {
     "ename": "SyntaxError",
     "evalue": "invalid syntax (109033805.py, line 1)",
     "output_type": "error",
     "traceback": [
      "\u001b[1;36m  Cell \u001b[1;32mIn[8], line 1\u001b[1;36m\u001b[0m\n\u001b[1;33m    pass = True\u001b[0m\n\u001b[1;37m         ^\u001b[0m\n\u001b[1;31mSyntaxError\u001b[0m\u001b[1;31m:\u001b[0m invalid syntax\n"
     ]
    }
   ],
   "source": [
    "pass = True\n",
    "fail = False"
   ]
  },
  {
   "cell_type": "markdown",
   "metadata": {},
   "source": [
    "# Control Statements"
   ]
  },
  {
   "cell_type": "code",
   "execution_count": 12,
   "metadata": {},
   "outputs": [
    {
     "name": "stdout",
     "output_type": "stream",
     "text": [
      "I don't have to wake up second\n",
      "test\n"
     ]
    }
   ],
   "source": [
    "day = int(input(\"Enter day\"))\n",
    "if day == 4:\n",
    "    print (\"I have to wake up first\")\n",
    "    print (\"I have to eat \")\n",
    "    print (\"I have to sleep\")\n",
    "elif day == 5:\n",
    "    print (\"I donot have to wake up first\")\n",
    "    print (\"I don't have to eat \")\n",
    "    print (\"I don't have to sleep\")\n",
    "else:\n",
    "    print (\"I don't have to wake up second\")\n",
    "print ('test') \n"
   ]
  },
  {
   "cell_type": "markdown",
   "metadata": {},
   "source": [
    "# Write a program to findout that the given number is odd or even"
   ]
  },
  {
   "cell_type": "code",
   "execution_count": 14,
   "metadata": {},
   "outputs": [
    {
     "name": "stdout",
     "output_type": "stream",
     "text": [
      "The number is odd\n"
     ]
    }
   ],
   "source": [
    "\n",
    "number = int(input(\"Enter a number\"))\n",
    "if number % 2 == 0:\n",
    "    print(\"The number is even\")\n",
    "else:\n",
    "    print(\"The number is odd\")"
   ]
  },
  {
   "cell_type": "markdown",
   "metadata": {},
   "source": [
    "# If time is\n",
    "# between 10-12 print its time for python\n",
    "# between 12-14 print its time for DSA\n",
    "# between 14-15 print its time for English\n",
    "# default \"getting ready\""
   ]
  },
  {
   "cell_type": "code",
   "execution_count": 24,
   "metadata": {},
   "outputs": [
    {
     "name": "stdout",
     "output_type": "stream",
     "text": [
      "The time is for DSA\n"
     ]
    }
   ],
   "source": [
    "\n",
    "time = int(input(\"Enter a time\"))\n",
    "if time >10 and time < 12:\n",
    "    print(\"The time is for python\")\n",
    "elif time >=12 and time <14:\n",
    "    print(\"The time is for DSA\")\n",
    "elif time >=14 and time <15:\n",
    "    print(\"The time is for English\")\n",
    "else:\n",
    "    print(\"getting ready\")\n"
   ]
  },
  {
   "cell_type": "markdown",
   "metadata": {},
   "source": [
    "# If you are from \"Nepal\" or \"India\" ticket for cablecar 50 else "
   ]
  },
  {
   "cell_type": "code",
   "execution_count": 35,
   "metadata": {},
   "outputs": [
    {
     "name": "stdout",
     "output_type": "stream",
     "text": [
      "Ticket for cablecar is 10\n"
     ]
    }
   ],
   "source": [
    "\n",
    "\n",
    "country = input(\"Enter country\")\n",
    "if country.lower() == \"nepal\" or country.lower() == \"india\":\n",
    "    print(\"Ticket for cablecar is 50\")\n",
    "else:\n",
    "    print(\"Ticket for cablecar is 10\")\n"
   ]
  },
  {
   "cell_type": "markdown",
   "metadata": {},
   "source": [
    "# While loop"
   ]
  },
  {
   "cell_type": "code",
   "execution_count": 46,
   "metadata": {},
   "outputs": [
    {
     "name": "stdout",
     "output_type": "stream",
     "text": [
      "Hello world\n",
      "Hello world 10\n",
      "Hello world\n",
      "Hello world 9\n",
      "Hello world\n",
      "Hello world 8\n",
      "Hello world\n",
      "Hello world 7\n",
      "Hello world\n",
      "Hello world 6\n",
      "Hello world\n",
      "Hello world 5\n",
      "Hello world\n",
      "Hello world 4\n",
      "Hello world\n",
      "Hello world 3\n",
      "Hello world\n",
      "Hello world 2\n",
      "Hello world\n",
      "Hello world 1\n"
     ]
    }
   ],
   "source": [
    "\n",
    "counter = 10\n",
    "while counter > 0:\n",
    "    print(\"Hello world\")\n",
    "    print(f\"Hello world {counter}\")\n",
    "    counter -= 1\n",
    "    \n"
   ]
  },
  {
   "cell_type": "markdown",
   "metadata": {},
   "source": [
    "# Find the sum of first n = 100 natural numbers"
   ]
  },
  {
   "cell_type": "code",
   "execution_count": 53,
   "metadata": {},
   "outputs": [
    {
     "name": "stdout",
     "output_type": "stream",
     "text": [
      "2550\n"
     ]
    }
   ],
   "source": [
    "\n",
    "n = 100\n",
    "counter = 2 \n",
    "sum = 0\n",
    "while counter<=n:\n",
    "    sum += counter\n",
    "    counter+=2\n",
    "print (sum)"
   ]
  },
  {
   "cell_type": "code",
   "execution_count": 54,
   "metadata": {},
   "outputs": [
    {
     "name": "stdout",
     "output_type": "stream",
     "text": [
      "2550\n"
     ]
    }
   ],
   "source": [
    "n = 100 \n",
    "counter = 1 \n",
    "sum = 0\n",
    "while counter<=n:\n",
    "    if counter %2==0:\n",
    "        sum += counter\n",
    "    counter += 1\n",
    "print (sum)"
   ]
  },
  {
   "cell_type": "markdown",
   "metadata": {},
   "source": [
    "# Reverse the given string address = \"Kathmandu Nepal\""
   ]
  },
  {
   "cell_type": "code",
   "execution_count": 60,
   "metadata": {},
   "outputs": [
    {
     "name": "stdout",
     "output_type": "stream",
     "text": [
      "14\n",
      "lapeN udnamhtaK\n"
     ]
    }
   ],
   "source": [
    "\n",
    "\n",
    "Name = \"Kathmandu Nepal\"\n",
    "length = len(Name) -1\n",
    "reversed_string = ''\n",
    "print (length)\n",
    "while length>=0:\n",
    "    reversed_string = reversed_string + Name[length]\n",
    "    length -= 1\n",
    "print (reversed_string)\n"
   ]
  },
  {
   "cell_type": "code",
   "execution_count": 61,
   "metadata": {},
   "outputs": [
    {
     "name": "stdout",
     "output_type": "stream",
     "text": [
      "lapeN udnamhtaK\n"
     ]
    }
   ],
   "source": [
    "address = \"Kathmandu Nepal\"\n",
    "reverse_str = \"\"\n",
    "index = len(address) - 1\n",
    "\n",
    "while index >= 0: \n",
    "    reverse_str += address[index]\n",
    "    index -= 1\n",
    "\n",
    "print(reverse_str)"
   ]
  },
  {
   "cell_type": "code",
   "execution_count": 8,
   "metadata": {},
   "outputs": [
    {
     "name": "stdout",
     "output_type": "stream",
     "text": [
      "1\n",
      "7\n",
      "8\n",
      "[1, 2, 3, 4, 5, 8]\n",
      "[1, 2, 10, 3, 4, 5, 8]\n",
      "1\n"
     ]
    }
   ],
   "source": [
    "numbers = [1, 2, 3, 4, 5, 5]\n",
    "students = [\"Ram\", \"Hari\"]\n",
    "numbers.append (8)\n",
    "\n",
    "first_number = numbers[0]\n",
    "print(first_number)\n",
    "\n",
    "total_items = len(numbers)\n",
    "print(total_items)\n",
    "\n",
    "last_element = numbers[total_items-1]\n",
    "print(last_element)\n",
    "\n",
    "numbers.remove(5)\n",
    "print(numbers)\n",
    "\n",
    "numbers.insert(2,10)\n",
    "print(numbers)\n",
    "\n",
    "print(numbers.count(1))"
   ]
  },
  {
   "cell_type": "code",
   "execution_count": 9,
   "metadata": {},
   "outputs": [
    {
     "name": "stdout",
     "output_type": "stream",
     "text": [
      "[1, 2, 3, 4]\n",
      "[]\n"
     ]
    }
   ],
   "source": [
    "numbers_1 = [1,2,]\n",
    "numbers_2 = [3,4]\n",
    "numbers_1.extend(numbers_2)\n",
    "print(numbers_1)\n",
    "\n",
    "numbers_1.clear()\n",
    "print(numbers_1)"
   ]
  },
  {
   "cell_type": "code",
   "execution_count": 4,
   "metadata": {},
   "outputs": [
    {
     "name": "stdout",
     "output_type": "stream",
     "text": [
      "6 5\n",
      "['Hari', 'Ram', 'Gopal']\n",
      "Ram exist in a\n"
     ]
    }
   ],
   "source": [
    "a = 5\n",
    "b = a\n",
    "a = a + 1\n",
    "print(a, b)\n",
    "\n",
    "a = ['Hari', 'Ram']\n",
    "b = a\n",
    "a.append('Gopal')\n",
    "print(b)\n",
    "if 'Ram' in a:\n",
    "    print('Ram exist in a')"
   ]
  },
  {
   "cell_type": "markdown",
   "metadata": {},
   "source": [
    "# Loop though list (iterate over list)"
   ]
  },
  {
   "cell_type": "code",
   "execution_count": 5,
   "metadata": {},
   "outputs": [
    {
     "name": "stdout",
     "output_type": "stream",
     "text": [
      "27\n"
     ]
    }
   ],
   "source": [
    "numbers = [1,2,3,4,5,6,6]\n",
    "total_items = len(numbers)\n",
    "index = 0\n",
    "sum = 0\n",
    "while index < total_items:\n",
    "    element = numbers[index]    \n",
    "    sum += element\n",
    "    index += 1\n",
    "print(sum)\n"
   ]
  },
  {
   "cell_type": "markdown",
   "metadata": {},
   "source": [
    "# Find the max value from the list"
   ]
  },
  {
   "cell_type": "code",
   "execution_count": 16,
   "metadata": {},
   "outputs": [
    {
     "name": "stdout",
     "output_type": "stream",
     "text": [
      "6\n"
     ]
    }
   ],
   "source": [
    "numbers = [1,2,3,4,5,6,6]\n",
    "total_items = len(numbers)\n",
    "index = 0\n",
    "max_value = numbers[0]\n",
    "while index < total_items:\n",
    "    element = numbers[index]    \n",
    "    if element > max_value:\n",
    "        max_value = element\n",
    "    index += 1\n",
    "print(max_value)\n"
   ]
  },
  {
   "cell_type": "markdown",
   "metadata": {},
   "source": [
    "# Filter valuse"
   ]
  },
  {
   "cell_type": "code",
   "execution_count": 20,
   "metadata": {},
   "outputs": [
    {
     "name": "stdout",
     "output_type": "stream",
     "text": [
      "['Hari', 'Gopal']\n",
      "[2, 4, 8]\n"
     ]
    }
   ],
   "source": [
    "students = ['Ram','Hari','Gopal']\n",
    "filtered_students = [student for student in students if student != 'Ram']\n",
    "print (filtered_students)\n",
    "\n"
   ]
  },
  {
   "cell_type": "markdown",
   "metadata": {},
   "source": [
    "# Creat a list of even number of from the given list"
   ]
  },
  {
   "cell_type": "code",
   "execution_count": 21,
   "metadata": {},
   "outputs": [
    {
     "name": "stdout",
     "output_type": "stream",
     "text": [
      "[2, 4, 8]\n"
     ]
    }
   ],
   "source": [
    "numbers = [1, 3, 2, 4, 5, 7, 11, 9, 8]\n",
    "even_number = [number for number in numbers if number %2==0]\n",
    "print (even_number)"
   ]
  },
  {
   "cell_type": "markdown",
   "metadata": {},
   "source": [
    "# Join all lists items into single string"
   ]
  },
  {
   "cell_type": "code",
   "execution_count": null,
   "metadata": {},
   "outputs": [],
   "source": []
  }
 ],
 "metadata": {
  "kernelspec": {
   "display_name": "base",
   "language": "python",
   "name": "python3"
  },
  "language_info": {
   "codemirror_mode": {
    "name": "ipython",
    "version": 3
   },
   "file_extension": ".py",
   "mimetype": "text/x-python",
   "name": "python",
   "nbconvert_exporter": "python",
   "pygments_lexer": "ipython3",
   "version": "3.12.4"
  }
 },
 "nbformat": 4,
 "nbformat_minor": 2
}
